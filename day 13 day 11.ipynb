{
 "cells": [
  {
   "cell_type": "markdown",
   "metadata": {},
   "source": [
    "# Problem Solving and Programming\n",
    "## Day 13\n",
    "## Date 11th may 2019\n",
    "## Day Outcomes\n",
    "* concepts of strings\n",
    "* leap year\n",
    "* matrix concepts\n",
    "### Problem 1\n",
    "### Problem Statement:Define a function to merge the characters of two strings alternatively. The remaining characters of the longer string are printed in the same order at the end\n",
    "### Test cases\n",
    "* mergeString('abcd', 'abcd') -> 'aabbccdd'\n",
    "* mergeString('abc', '123456') -> 'a1b2c3456'\n",
    "* mergeString('0', '123456') -> '0123456' "
   ]
  },
  {
   "cell_type": "code",
   "execution_count": 18,
   "metadata": {},
   "outputs": [
    {
     "name": "stdout",
     "output_type": "stream",
     "text": [
      "aabbccdd\n",
      "a1b2c3456\n",
      "0 123456\n"
     ]
    }
   ],
   "source": [
    "def mergeString(s1,s2):\n",
    "    k=[]\n",
    "    for count in range (0,len(max(s1,s2))):\n",
    "        k.append(s1[count]+s2[count])\n",
    "    if len(s1)<len(s2):\n",
    "        for count in range (len(s1),len(s2)):\n",
    "            k.append(s2[count])\n",
    "    else:\n",
    "        for count in range (len(s2),len(s1)):\n",
    "            k.append(s1[count])\n",
    "    return listmerge(k)\n",
    "def listmerge(k):\n",
    "    m=\"\"\n",
    "    for count in range(0,len(k)):\n",
    "        m=m+k[count]\n",
    "    return (m)\n",
    "print(mergeString('abcd', 'abcd'))\n",
    "print(mergeString('abc', '123456'))\n",
    "print(mergeString('0',' 123456'))\n"
   ]
  },
  {
   "cell_type": "code",
   "execution_count": 28,
   "metadata": {},
   "outputs": [
    {
     "name": "stdout",
     "output_type": "stream",
     "text": [
      "acbd\n"
     ]
    }
   ],
   "source": [
    "a=\"ab\"\n",
    "b=\"cdfg\"\n",
    "z=\"\"\n",
    "\n",
    "for i in range(len(a)):\n",
    "    z=z+a[i]+b[i]\n",
    "print(z)"
   ]
  },
  {
   "cell_type": "markdown",
   "metadata": {},
   "source": [
    "## Problem:2\n",
    "## Problem Statement:Define a function to check if a given year is a leap year. Returns a boolean value\n",
    "## Test cases\n",
    "* 2000 -> True\n",
    "* 1900 -> False\n",
    "* 2012 -> True\n",
    "* 2020 -> True\n",
    "* 0200 -> False"
   ]
  },
  {
   "cell_type": "code",
   "execution_count": 32,
   "metadata": {},
   "outputs": [
    {
     "data": {
      "text/plain": [
       "True"
      ]
     },
     "execution_count": 32,
     "metadata": {},
     "output_type": "execute_result"
    }
   ],
   "source": [
    "def leapyear(n):\n",
    "    if (n%4==0 or n%400==0 and n%100!=0):\n",
    "        return True\n",
    "    else:\n",
    "        return False\n",
    "leapyear(2012)"
   ]
  },
  {
   "cell_type": "markdown",
   "metadata": {},
   "source": [
    "## Problem:3\n",
    "## Problem statement:Binary to decimal\n"
   ]
  },
  {
   "cell_type": "code",
   "execution_count": 35,
   "metadata": {},
   "outputs": [
    {
     "data": {
      "text/plain": [
       "8"
      ]
     },
     "execution_count": 35,
     "metadata": {},
     "output_type": "execute_result"
    }
   ],
   "source": [
    "def binarytodecimal(n):\n",
    "    num=n\n",
    "    dec=0\n",
    "    base=1\n",
    "    temp=num\n",
    "    while(temp):\n",
    "        rem=temp%10\n",
    "        temp=temp//10\n",
    "        dec=dec+base*rem\n",
    "        base=base*2\n",
    "    return dec\n",
    "binarytodecimal(1000)"
   ]
  },
  {
   "cell_type": "markdown",
   "metadata": {},
   "source": [
    "# Problem:4\n",
    "## Problem statement:decimal to binary"
   ]
  },
  {
   "cell_type": "code",
   "execution_count": 38,
   "metadata": {},
   "outputs": [
    {
     "name": "stdout",
     "output_type": "stream",
     "text": [
      "1\n",
      "0\n",
      "0\n",
      "0\n"
     ]
    }
   ],
   "source": [
    "def decimaltobinary(n):\n",
    "    if (n>1):\n",
    "        decimaltobinary(n//2)\n",
    "    print(n%2)\n",
    "decimaltobinary(8)    "
   ]
  },
  {
   "cell_type": "markdown",
   "metadata": {},
   "source": [
    "# Problem:5\n",
    "## Problem statement:define a function to print the sequence of spiral pattern elments for a given n elements \n",
    "## Test cases\n",
    "* spiralPattern([[1,2,3], [4,5,6], [7,8,9]]) -> 1 2 3 6 9 8 7 4 5\n"
   ]
  },
  {
   "cell_type": "code",
   "execution_count": 1,
   "metadata": {},
   "outputs": [
    {
     "name": "stdout",
     "output_type": "stream",
     "text": [
      "1 2 3 6 9 8 7 4 5 "
     ]
    }
   ],
   "source": [
    "def spiralPrint(m, n, a) : \n",
    "    k = 0; l = 0\n",
    "  \n",
    "    ''' k - starting row index \n",
    "        m - ending row index \n",
    "        l - starting column index \n",
    "        n - ending column index \n",
    "        i - iterator''' \n",
    "      \n",
    "  \n",
    "    while (k < m and l < n) : \n",
    "          \n",
    "     \n",
    "        for i in range(l, n) : \n",
    "            print(a[k][i], end = \" \") \n",
    "              \n",
    "        k += 1\n",
    "  \n",
    "        \n",
    "        for i in range(k, m) : \n",
    "            print(a[i][n - 1], end = \" \") \n",
    "              \n",
    "        n -= 1\n",
    "   \n",
    "        if ( k < m) : \n",
    "              \n",
    "            for i in range(n - 1, (l - 1), -1) : \n",
    "                print(a[m - 1][i], end = \" \") \n",
    "              \n",
    "            m -= 1\n",
    "          \n",
    "          \n",
    "        if (l < n) : \n",
    "            for i in range(m - 1, k - 1, -1) : \n",
    "                print(a[i][l], end = \" \") \n",
    "              \n",
    "            l += 1\n",
    "  \n",
    " \n",
    "a = [ [1, 2, 3,], \n",
    "      [4, 5, 6,], \n",
    "      [7, 8, 9] ] \n",
    "        \n",
    "R = 3; C = 3\n",
    "spiralPrint(R, C, a) "
   ]
  },
  {
   "cell_type": "markdown",
   "metadata": {},
   "source": [
    "# Problem:5\n",
    "## Problem statement: Design a Python script to determine the difference in date for given two dates in YYYY:MM:DD format(0 <= YYYY <= 9999, 1 <= MM <= 12, 1 <= DD <= 31) following the leap year rules. Return the total number of days existing between the two dates\n",
    "## Test Cases\n",
    "* dateDifference('2019:05:10', '2019:05:01') -> 9\n",
    "* dateDifference('0003:03:03', '0003:06:06') -> 95\n"
   ]
  },
  {
   "cell_type": "code",
   "execution_count": 2,
   "metadata": {},
   "outputs": [
    {
     "name": "stdout",
     "output_type": "stream",
     "text": [
      "9 days\n"
     ]
    }
   ],
   "source": [
    "from datetime import date \n",
    "  \n",
    "def numOfDays(date1, date2): \n",
    "    return (date2-date1).days \n",
    "      \n",
    "date1 = date(2019, 5, 1) \n",
    "date2 = date(2019, 5, 10) \n",
    "print(numOfDays(date1, date2), \"days\") "
   ]
  },
  {
   "cell_type": "code",
   "execution_count": null,
   "metadata": {},
   "outputs": [],
   "source": []
  }
 ],
 "metadata": {
  "kernelspec": {
   "display_name": "Python 3",
   "language": "python",
   "name": "python3"
  },
  "language_info": {
   "codemirror_mode": {
    "name": "ipython",
    "version": 3
   },
   "file_extension": ".py",
   "mimetype": "text/x-python",
   "name": "python",
   "nbconvert_exporter": "python",
   "pygments_lexer": "ipython3",
   "version": "3.7.3"
  }
 },
 "nbformat": 4,
 "nbformat_minor": 2
}
