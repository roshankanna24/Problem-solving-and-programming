{
 "cells": [
  {
   "cell_type": "markdown",
   "metadata": {},
   "source": [
    "# Problem solving and Progrmming\n",
    "## Day:17\n",
    "## Date:15 may 2019"
   ]
  },
  {
   "cell_type": "markdown",
   "metadata": {},
   "source": [
    "### Day outcomes\n",
    "* objective 1\n",
    "* objective 2\n",
    "* objective 3"
   ]
  },
  {
   "cell_type": "markdown",
   "metadata": {},
   "source": [
    "## Problem :1\n",
    "### Problem Statement\n",
    "\n",
    "### Constraints\n",
    "\n",
    "## Testcases\n",
    "* testcase 1\n",
    "* testcase 2\n",
    "* testcase 3"
   ]
  },
  {
   "cell_type": "code",
   "execution_count": 1,
   "metadata": {},
   "outputs": [
    {
     "name": "stdout",
     "output_type": "stream",
     "text": [
      "Match\n"
     ]
    }
   ],
   "source": [
    "import re\n",
    "pattern = '^[0-9]{3,9}$'\n",
    "domain = '296264'\n",
    "if re.match(pattern, domain):\n",
    "    print('Match')\n",
    "else:\n",
    "    print('Does not match')"
   ]
  },
  {
   "cell_type": "markdown",
   "metadata": {},
   "source": [
    "### phone no validation"
   ]
  },
  {
   "cell_type": "code",
   "execution_count": 5,
   "metadata": {},
   "outputs": [
    {
     "name": "stdout",
     "output_type": "stream",
     "text": [
      "Match\n"
     ]
    }
   ],
   "source": [
    "import re\n",
    "pattern = '^[1-9][0-9]{5}$'\n",
    "domain = '905260'\n",
    "if re.match(pattern, domain ):\n",
    "    print('Match')\n",
    "else:\n",
    "    print('Does not match')"
   ]
  },
  {
   "cell_type": "code",
   "execution_count": 6,
   "metadata": {},
   "outputs": [
    {
     "name": "stdout",
     "output_type": "stream",
     "text": [
      "Does not match\n"
     ]
    }
   ],
   "source": [
    "import re\n",
    "pattern = '^[+][9][1][ ][6-9][0-9]{9}$'\n",
    "domain = '+91 905260123'\n",
    "if re.match(pattern, domain ):\n",
    "    print('Match')\n",
    "else:\n",
    "    print('Does not match')"
   ]
  },
  {
   "cell_type": "markdown",
   "metadata": {},
   "source": [
    "### Gmail validation"
   ]
  },
  {
   "cell_type": "code",
   "execution_count": 7,
   "metadata": {},
   "outputs": [
    {
     "name": "stdout",
     "output_type": "stream",
     "text": [
      "Match\n"
     ]
    }
   ],
   "source": [
    "import re\n",
    "pattern = '^[a-z0-9]{1,10}[0-9]{1,3}[@][a-z]{1,5}[.][a-z]{1,3}$'\n",
    "domain = 'vamsi123@gmail.com'\n",
    "if re.match(pattern, domain ):\n",
    "    print('Match')\n",
    "else:\n",
    "    print('Does not match')"
   ]
  },
  {
   "cell_type": "markdown",
   "metadata": {},
   "source": [
    "### Password validation"
   ]
  },
  {
   "cell_type": "code",
   "execution_count": 8,
   "metadata": {},
   "outputs": [
    {
     "name": "stdout",
     "output_type": "stream",
     "text": [
      "Does not match\n"
     ]
    }
   ],
   "source": [
    "import re\n",
    "pattern = '^[a-zA-Z][a-zA-Z0-9]{6,21}$'\n",
    "domain = 'vamsi123@gmail.com'\n",
    "if re.match(pattern, domain ):\n",
    "    print('Match')\n",
    "else:\n",
    "    print('Does not match')"
   ]
  },
  {
   "cell_type": "markdown",
   "metadata": {},
   "source": [
    "### Iteration in python"
   ]
  },
  {
   "cell_type": "code",
   "execution_count": 9,
   "metadata": {},
   "outputs": [
    {
     "name": "stdout",
     "output_type": "stream",
     "text": [
      "1\n",
      "2\n",
      "3\n",
      "4\n",
      "5\n",
      "1\n",
      "2\n",
      "3\n",
      "4\n",
      "5\n"
     ]
    }
   ],
   "source": [
    "li=[1,2,3,4,5]\n",
    "for i in li:\n",
    "    print(i)\n",
    "type(li)\n",
    "it=iter(li)\n",
    "type(it)\n",
    "for i in li:\n",
    "    print(i)"
   ]
  },
  {
   "cell_type": "markdown",
   "metadata": {},
   "source": [
    "### Generators in python"
   ]
  },
  {
   "cell_type": "code",
   "execution_count": 10,
   "metadata": {},
   "outputs": [
    {
     "name": "stdout",
     "output_type": "stream",
     "text": [
      "1 8 27 64 125 216 343 512 729 1000 1331 1728 "
     ]
    }
   ],
   "source": [
    "li=[i**3 for i in range(1,13)]\n",
    "li\n",
    "gn=[i**3 for i in range(1,13)]\n",
    "gn\n",
    "for i in gn:\n",
    "    print(i,end=' ')"
   ]
  },
  {
   "cell_type": "code",
   "execution_count": null,
   "metadata": {},
   "outputs": [],
   "source": []
  }
 ],
 "metadata": {
  "kernelspec": {
   "display_name": "Python 3",
   "language": "python",
   "name": "python3"
  },
  "language_info": {
   "codemirror_mode": {
    "name": "ipython",
    "version": 3
   },
   "file_extension": ".py",
   "mimetype": "text/x-python",
   "name": "python",
   "nbconvert_exporter": "python",
   "pygments_lexer": "ipython3",
   "version": "3.7.3"
  }
 },
 "nbformat": 4,
 "nbformat_minor": 2
}
