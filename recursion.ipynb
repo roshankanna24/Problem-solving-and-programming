{
 "cells": [
  {
   "cell_type": "markdown",
   "metadata": {},
   "source": [
    "# Recursion"
   ]
  },
  {
   "cell_type": "markdown",
   "metadata": {},
   "source": [
    "### function calling itself"
   ]
  },
  {
   "cell_type": "markdown",
   "metadata": {},
   "source": [
    "#### Breakdown a complex problem into subproblem of lower complexity.keep repeating this process untill we reach the smallest possible subproblem to which we know the solution\n",
    "\n",
    "power of a no\n",
    "factorial\n",
    "gcd\n",
    "Towers of hanoi\n",
    "Binary search\n",
    "Merge sort\n",
    "Fibanocci series\n",
    "Any problem wid solution\n",
    "\n",
    "### power-n^r"
   ]
  },
  {
   "cell_type": "markdown",
   "metadata": {},
   "source": [
    "## Problem :1"
   ]
  },
  {
   "cell_type": "markdown",
   "metadata": {},
   "source": [
    "### Problem statement:Iteration\n",
    "#### Constraints:(n,r)\n",
    "#### Test cases:power(4,6)"
   ]
  },
  {
   "cell_type": "code",
   "execution_count": 8,
   "metadata": {},
   "outputs": [
    {
     "data": {
      "text/plain": [
       "4096"
      ]
     },
     "execution_count": 8,
     "metadata": {},
     "output_type": "execute_result"
    }
   ],
   "source": [
    "def power(n,r):\n",
    "    prod=1\n",
    "    for i in range (1,r+1):\n",
    "        prod *=n\n",
    "    return prod\n",
    "power(4,6)"
   ]
  },
  {
   "cell_type": "markdown",
   "metadata": {},
   "source": [
    "## Problem :2"
   ]
  },
  {
   "cell_type": "markdown",
   "metadata": {},
   "source": [
    "### Problem statement:Recursion power\n",
    "#### Constraints:(n,r)\n",
    "#### Test cases:RecursivePower(3,6)"
   ]
  },
  {
   "cell_type": "code",
   "execution_count": 20,
   "metadata": {},
   "outputs": [
    {
     "data": {
      "text/plain": [
       "729"
      ]
     },
     "execution_count": 20,
     "metadata": {},
     "output_type": "execute_result"
    }
   ],
   "source": [
    "def RecursivePower(n,r):\n",
    "    if r==1:\n",
    "        return n\n",
    "    else:\n",
    "        return RecursivePower(n,r-1)*n\n",
    "RecursivePower(3,6)\n",
    "        \n",
    "    "
   ]
  },
  {
   "cell_type": "markdown",
   "metadata": {},
   "source": [
    "## Problem:3\n",
    "### Problem statement:gcdrecursive\n",
    "### Constraints:(a,b)\n",
    "### Test cases:gcdRecursive(12,40)\n"
   ]
  },
  {
   "cell_type": "code",
   "execution_count": 29,
   "metadata": {},
   "outputs": [
    {
     "data": {
      "text/plain": [
       "4"
      ]
     },
     "execution_count": 29,
     "metadata": {},
     "output_type": "execute_result"
    }
   ],
   "source": [
    "def gcdRecursive(a,b):   \n",
    "    if b%a==0:\n",
    "        return a\n",
    "    else:\n",
    "        return gcdRecursive(b%a,a)\n",
    "gcdRecursive(12,40)"
   ]
  },
  {
   "cell_type": "markdown",
   "metadata": {},
   "source": [
    "## Problem :4\n",
    "### Problem statement:gcditerative\n",
    "### Constraints:(a,b)\n",
    "### Test cases:gcditerative(12,40)"
   ]
  },
  {
   "cell_type": "code",
   "execution_count": 9,
   "metadata": {},
   "outputs": [
    {
     "data": {
      "text/plain": [
       "12"
      ]
     },
     "execution_count": 9,
     "metadata": {},
     "output_type": "execute_result"
    }
   ],
   "source": [
    "def gcditerative(a,b):\n",
    "    r=b%a\n",
    "    if(r==0):\n",
    "        return a\n",
    "    while r!=0:\n",
    "        r-b%a\n",
    "        b=a\n",
    "        a=r\n",
    "        return b\n",
    "gcditerative(12,40)"
   ]
  },
  {
   "cell_type": "markdown",
   "metadata": {},
   "source": [
    "## Problem :5\n",
    "### Problem statement:factorial no\n",
    "### Constraints:n\n",
    "### Test series:factorialno(5)"
   ]
  },
  {
   "cell_type": "code",
   "execution_count": 12,
   "metadata": {},
   "outputs": [
    {
     "data": {
      "text/plain": [
       "120"
      ]
     },
     "execution_count": 12,
     "metadata": {},
     "output_type": "execute_result"
    }
   ],
   "source": [
    "def factorialnumber(n):\n",
    "    if n==1:\n",
    "        return n\n",
    "    else:\n",
    "        return factorialnumber(n-1)*n\n",
    "factorialnumber(5)"
   ]
  },
  {
   "cell_type": "code",
   "execution_count": null,
   "metadata": {},
   "outputs": [],
   "source": []
  },
  {
   "cell_type": "markdown",
   "metadata": {},
   "source": [
    "## Problem:6\n",
    "### Problem statement:Tower of hanoi\n",
    "### Constraints:n,source,temp,dest\n",
    "### Test cases:Towerofhanoi(3,'A','B','C')"
   ]
  },
  {
   "cell_type": "code",
   "execution_count": 56,
   "metadata": {},
   "outputs": [
    {
     "name": "stdout",
     "output_type": "stream",
     "text": [
      "Move 1 disk from A to C\n",
      "Move 2 disk from A to B\n",
      "Move 1 disk from C to B\n",
      "Move 3 disk from A to C\n",
      "Move 1 disk from B to A\n",
      "Move 2 disk from B to C\n",
      "Move 1 disk from A to C\n"
     ]
    }
   ],
   "source": [
    "def towerofhanoi(n,source,temp,dest):\n",
    "    if n==1:\n",
    "        print('Move',n,'disk from',source,'to',dest)\n",
    "        return \n",
    "    else:\n",
    "        towerofhanoi((n-1),source,dest,temp)\n",
    "        print('Move',n,'disk from',source,'to',dest)\n",
    "        towerofhanoi(n-1,temp,source,dest)\n",
    "        return \n",
    "towerofhanoi(3,'A','B','C')\n",
    "            \n",
    "        "
   ]
  },
  {
   "cell_type": "markdown",
   "metadata": {},
   "source": [
    "## Problem:6\n",
    "### Problem statement :Fibanacci\n",
    "###  Constraints:n\n",
    "### Test cases:fibanacci (8)"
   ]
  },
  {
   "cell_type": "code",
   "execution_count": 7,
   "metadata": {},
   "outputs": [
    {
     "data": {
      "text/plain": [
       "21"
      ]
     },
     "execution_count": 7,
     "metadata": {},
     "output_type": "execute_result"
    }
   ],
   "source": [
    "def fibanocci(n):\n",
    "    if (n<=1):\n",
    "        return n\n",
    "    else:\n",
    "        return (fibanocci(n-1) + fibanocci(n-2))\n",
    "            n=int(input(\"enter number of terms:\"))\n",
    "        print(\"fibanocci sequence\")\n",
    "    for i in range(n):\n",
    "         print(fibanocci(i))\n",
    "fibanocci(8)            "
   ]
  },
  {
   "cell_type": "code",
   "execution_count": null,
   "metadata": {},
   "outputs": [],
   "source": []
  },
  {
   "cell_type": "code",
   "execution_count": null,
   "metadata": {},
   "outputs": [],
   "source": []
  }
 ],
 "metadata": {
  "kernelspec": {
   "display_name": "Python 3",
   "language": "python",
   "name": "python3"
  },
  "language_info": {
   "codemirror_mode": {
    "name": "ipython",
    "version": 3
   },
   "file_extension": ".py",
   "mimetype": "text/x-python",
   "name": "python",
   "nbconvert_exporter": "python",
   "pygments_lexer": "ipython3",
   "version": "3.7.3"
  }
 },
 "nbformat": 4,
 "nbformat_minor": 2
}
