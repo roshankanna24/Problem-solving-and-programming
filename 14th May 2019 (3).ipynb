{
 "cells": [
  {
   "cell_type": "markdown",
   "metadata": {},
   "source": [
    "### Problem 1: \n",
    "#### Problem Statement: \n",
    "For a given integer N, find the total number of  Non - Prime Factors in the range (1, N) (both exclusive) that do not contain the digit 0\n",
    "#### Test Cases\n",
    "* nonPrimeFactorsCount( 100 ) -> 2\n",
    "* nonPrimeFactorsCount( 50 )  ->  1\n"
   ]
  },
  {
   "cell_type": "code",
   "execution_count": 69,
   "metadata": {},
   "outputs": [
    {
     "name": "stdout",
     "output_type": "stream",
     "text": [
      "2\n",
      "1\n"
     ]
    }
   ],
   "source": [
    "def nonp(n):\n",
    "    count=0\n",
    "    for i in range(2,n):\n",
    "        if n%i==0:\n",
    "            r=isprime(i)\n",
    "            s=iszero(i)\n",
    "            if r==False and s==False: \n",
    "                count=count+1\n",
    "    return count\n",
    "def isprime(n):\n",
    "    for i in range(2,n):\n",
    "        if n%i==0:\n",
    "            return False\n",
    "    return True\n",
    "def iszero(n):\n",
    "    t=str(n)\n",
    "    if '0' in t:\n",
    "        return True\n",
    "    else:\n",
    "        return False\n",
    "\n",
    "print(nonp(100))\n",
    "print(nonp(50))\n",
    "    \n"
   ]
  },
  {
   "cell_type": "code",
   "execution_count": null,
   "metadata": {},
   "outputs": [],
   "source": []
  },
  {
   "cell_type": "markdown",
   "metadata": {},
   "source": [
    "### Problem 2: \n",
    "#### Problem Statement: \n",
    "For a given integer N. Find the least positive integer X made up of only 9's and 0's, such that, X is a multiple of N.\n",
    "\n",
    "X is made up of one or more occurrences of 9 and zero or more occurrences of 0.\n",
    "#### Test Cases\n",
    "* Multiple( 5 )  -> 90\n",
    "* Multiple ( 7 )  -> 9009\n",
    "* Multiple( 1 )  -> 9\n"
   ]
  },
  {
   "cell_type": "code",
   "execution_count": 59,
   "metadata": {},
   "outputs": [
    {
     "name": "stdout",
     "output_type": "stream",
     "text": [
      "90\n",
      "9009\n",
      "9\n"
     ]
    }
   ],
   "source": [
    "def multiple(n):\n",
    "    \n",
    "    i=9\n",
    "    while i!=0:\n",
    "        if i%n==0:\n",
    "            return i\n",
    "        else:\n",
    "            j=int(str(i)+'0')\n",
    "            if j%n==0:\n",
    "                return j\n",
    "            else:\n",
    "                k=int(str(i)+'9')\n",
    "                if k%n==0:\n",
    "                    return k\n",
    "                else:\n",
    "                    i=j\n",
    "\n",
    "print(multiple(5))\n",
    "print(multiple(7))\n",
    "print(multiple(1))"
   ]
  },
  {
   "cell_type": "code",
   "execution_count": null,
   "metadata": {},
   "outputs": [],
   "source": []
  }
 ],
 "metadata": {
  "kernelspec": {
   "display_name": "Python 3",
   "language": "python",
   "name": "python3"
  },
  "language_info": {
   "codemirror_mode": {
    "name": "ipython",
    "version": 3
   },
   "file_extension": ".py",
   "mimetype": "text/x-python",
   "name": "python",
   "nbconvert_exporter": "python",
   "pygments_lexer": "ipython3",
   "version": "3.7.3"
  }
 },
 "nbformat": 4,
 "nbformat_minor": 2
}
