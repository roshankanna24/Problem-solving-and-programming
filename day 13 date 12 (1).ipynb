{
 "cells": [
  {
   "cell_type": "markdown",
   "metadata": {},
   "source": [
    "# Problem soliving an d programming\n",
    "## Day 13\n",
    "## Date 12th may 2019\n",
    "## Problem 1\n",
    "## Problem statement:You are given n words. Some words may repeat. For each word, output its number of occurrences. The output order should correspond with the input order of appearance of the word.\n",
    "## Constraints:First line of input contains the total number of words n. Next n lines contain words that need to processed.First line of the output should contain the total number distinct words. Second line of output must contain the frequency of words the same order of their appearance as in the input\n",
    "## Testcases\n",
    "*Sample Input :  6\n",
    "\n",
    "abcd\n",
    "\n",
    "ijkl\n",
    "\n",
    "abcd\n",
    "\n",
    "pqrs\n",
    "\n",
    "abcd\n",
    "\n",
    "ijkl\n",
    "\n",
    "Sample Output :   3\n",
    "\n",
    "3  2   1\n",
    "\n"
   ]
  },
  {
   "cell_type": "code",
   "execution_count": 14,
   "metadata": {},
   "outputs": [
    {
     "name": "stdout",
     "output_type": "stream",
     "text": [
      "Counter({'roshan': 2, 'oshan': 1, 'kesh': 1, 'shan': 1})\n"
     ]
    }
   ],
   "source": [
    "from collections import Counter\n",
    "c=0\n",
    "li=['oshan','kesh','shan','roshan','roshan']\n",
    "c=Counter(li)\n",
    "print(c)\n",
    "\n",
    "              \n",
    "        "
   ]
  },
  {
   "cell_type": "code",
   "execution_count": null,
   "metadata": {},
   "outputs": [],
   "source": [
    "list1=['roshan','rakesh','roshan','roshan','rakesh','raghu']\n",
    "list2=[]\n",
    "for word in list1:\n",
    "    \n",
    "    "
   ]
  },
  {
   "cell_type": "code",
   "execution_count": 16,
   "metadata": {},
   "outputs": [
    {
     "ename": "IndentationError",
     "evalue": "expected an indented block (<ipython-input-16-fea316596e1b>, line 2)",
     "output_type": "error",
     "traceback": [
      "\u001b[1;36m  File \u001b[1;32m\"<ipython-input-16-fea316596e1b>\"\u001b[1;36m, line \u001b[1;32m2\u001b[0m\n\u001b[1;33m    dict = {}\u001b[0m\n\u001b[1;37m       ^\u001b[0m\n\u001b[1;31mIndentationError\u001b[0m\u001b[1;31m:\u001b[0m expected an indented block\n"
     ]
    }
   ],
   "source": [
    "def string_frequency(str):\n",
    "dict = {}\n",
    "    for n in str:\n",
    "        keys = dict.keys()\n",
    "        if n in keys:\n",
    "            dict{n} += 1\n",
    "        else:\n",
    "            dict{n} = 1\n",
    "    return dict\n",
    "print(string_frequency('roshan','roshan','rakesh'))\n",
    "\n",
    "\n"
   ]
  },
  {
   "cell_type": "code",
   "execution_count": 1,
   "metadata": {},
   "outputs": [
    {
     "name": "stdout",
     "output_type": "stream",
     "text": [
      "3\n",
      "3 2 1 "
     ]
    }
   ],
   "source": [
    "def wordCount(wc, words):\n",
    "    j = 0\n",
    "    list1 = []\n",
    "    list2 = []\n",
    "    dict1 = {}\n",
    "    for i in range(0, len(words)):\n",
    "        if(words[i] == ' '):\n",
    "            list1.append(words[j:i])\n",
    "            j = i+1\n",
    "            \n",
    "    j = len(words)-1\n",
    "    for i in range(len(words)-1, -1, -1):\n",
    "        if(words[i] == ' '):\n",
    "            list1.append(words[i+1:j+1])\n",
    "            break\n",
    "\n",
    "    for i in list1:\n",
    "        count = 1\n",
    "        if(i in dict1):\n",
    "            dict1[i] += 1\n",
    "        else:\n",
    "            dict1[i] = 1\n",
    "            list2.append(i)\n",
    "            wcc = len(list2)\n",
    "    print(wcc)\n",
    "    for i in dict1:\n",
    "        print(dict1[i], end=' ')\n",
    "wordCount(6,  'abcd ijkl abcd pqrs abcd ijkl')"
   ]
  },
  {
   "cell_type": "code",
   "execution_count": null,
   "metadata": {},
   "outputs": [],
   "source": []
  }
 ],
 "metadata": {
  "kernelspec": {
   "display_name": "Python 3",
   "language": "python",
   "name": "python3"
  },
  "language_info": {
   "codemirror_mode": {
    "name": "ipython",
    "version": 3
   },
   "file_extension": ".py",
   "mimetype": "text/x-python",
   "name": "python",
   "nbconvert_exporter": "python",
   "pygments_lexer": "ipython3",
   "version": "3.7.3"
  }
 },
 "nbformat": 4,
 "nbformat_minor": 2
}
